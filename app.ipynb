{
 "cells": [
  {
   "cell_type": "code",
   "execution_count": 1,
   "metadata": {},
   "outputs": [],
   "source": [
    "import ipywidgets as widgets\n",
    "from ipywidgets import HBox, VBox\n",
    "import numpy as np\n",
    "import matplotlib.pyplot as plt\n",
    "from IPython.display import display\n",
    "%matplotlib inline"
   ]
  },
  {
   "cell_type": "code",
   "execution_count": 2,
   "metadata": {
    "scrolled": false
   },
   "outputs": [
    {
     "data": {
      "application/vnd.jupyter.widget-view+json": {
       "model_id": "2a0cbfd572ca494ca86ddeebeea7ef1c",
       "version_major": 2,
       "version_minor": 0
      },
      "text/plain": [
       "interactive(children=(FloatSlider(value=5.0, description='A', max=10.0), FloatSlider(value=2.0, description='B…"
      ]
     },
     "metadata": {},
     "output_type": "display_data"
    }
   ],
   "source": [
    "@widgets.interact(A=(0.,10.),B=(0.,10.), C=(0.,10.))\n",
    "def plot(A=5.,B=2.,C=3., grid=True):\n",
    "    b = A*C*np.sqrt(1/((A - B)*(A + B)))\n",
    "    a = A/2\n",
    "\n",
    "    t =np.linspace(0,2*np.pi,100)\n",
    "    Xx =np.array([-A/2,A/2,B/2,-B/2,-A/2])\n",
    "    Xy =np.array([0,0,C,C,0])\n",
    "    \n",
    "    Area = np.pi*a*b\n",
    "    h = ((a-b)**2)/((a+b)**2)\n",
    "    perimeter = np.pi*(a+b)*(1+3*h/(10+np.sqrt(4-3*h)))\n",
    "    R = 4*np.pi*Area/(perimeter*perimeter)\n",
    "    \n",
    "    fig, ax = plt.subplots(1, 1, figsize=(8, 6))\n",
    "    ax.plot(Xx,Xy,'r-')\n",
    "    ax.plot(Xx[0:4],Xy[0:4],'ro')\n",
    "    ax.plot(a*np.cos(t),b*np.sin(t),'b-')\n",
    "    ax.grid(grid)\n",
    "    ax.axis('equal')\n",
    "    ax.set_title('Roundness = {:.3f}; Area = {:.3f},  perimeter = {:.3f}'.format(R,Area,perimeter))\n",
    "    "
   ]
  },
  {
   "cell_type": "code",
   "execution_count": null,
   "metadata": {},
   "outputs": [],
   "source": []
  },
  {
   "cell_type": "code",
   "execution_count": null,
   "metadata": {},
   "outputs": [],
   "source": []
  },
  {
   "cell_type": "code",
   "execution_count": null,
   "metadata": {},
   "outputs": [],
   "source": []
  },
  {
   "cell_type": "code",
   "execution_count": null,
   "metadata": {},
   "outputs": [],
   "source": []
  }
 ],
 "metadata": {
  "kernelspec": {
   "display_name": "env",
   "language": "python",
   "name": "env"
  },
  "language_info": {
   "codemirror_mode": {
    "name": "ipython",
    "version": 3
   },
   "file_extension": ".py",
   "mimetype": "text/x-python",
   "name": "python",
   "nbconvert_exporter": "python",
   "pygments_lexer": "ipython3",
   "version": "3.8.3"
  }
 },
 "nbformat": 4,
 "nbformat_minor": 4
}
